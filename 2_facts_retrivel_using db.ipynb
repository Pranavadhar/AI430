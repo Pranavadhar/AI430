{
 "cells": [
  {
   "cell_type": "code",
   "execution_count": 13,
   "metadata": {},
   "outputs": [],
   "source": [
    "from pymongo import MongoClient"
   ]
  },
  {
   "cell_type": "markdown",
   "metadata": {},
   "source": [
    "# Connect to mongo db"
   ]
  },
  {
   "cell_type": "code",
   "execution_count": 14,
   "metadata": {},
   "outputs": [
    {
     "name": "stdout",
     "output_type": "stream",
     "text": [
      "Sample facts inserted successfully.\n"
     ]
    }
   ],
   "source": [
    "try:\n",
    "    # Connect to MongoDB\n",
    "    client = MongoClient('mongodb://localhost:27017/')\n",
    "    db = client['fact_checking_db']\n",
    "    facts_collection = db['facts']\n",
    "\n",
    "    # Insert sample facts into the database\n",
    "    sample_facts = [\n",
    "        {\"statement\": \"The capital of France is Paris.\", \"is_true\": True},\n",
    "        {\"statement\": \"The Earth is flat.\", \"is_true\": False},\n",
    "        {\"statement\": \"Water boils at 100 degrees Celsius.\", \"is_true\": True},\n",
    "    ]\n",
    "    facts_collection.insert_many(sample_facts)\n",
    "\n",
    "    # Check if the insertion was successful\n",
    "    print(\"Sample facts inserted successfully.\")\n",
    "\n",
    "except Exception as e:\n",
    "    print(f\"Error: {e}\")"
   ]
  },
  {
   "cell_type": "code",
   "execution_count": 15,
   "metadata": {},
   "outputs": [],
   "source": [
    "sample_facts = [\n",
    "    {\"statement\": \"The capital of France is Paris.\", \"is_true\": True},\n",
    "    {\"statement\": \"The Earth is flat.\", \"is_true\": False},\n",
    "    {\"statement\": \"Water boils at 100 degrees Celsius.\", \"is_true\": True},\n",
    "]"
   ]
  },
  {
   "cell_type": "markdown",
   "metadata": {},
   "source": [
    "\n",
    "# Insert sample facts into the database"
   ]
  },
  {
   "cell_type": "code",
   "execution_count": 16,
   "metadata": {},
   "outputs": [],
   "source": [
    "def insert_sample_facts():\n",
    "    facts_collection.insert_many(sample_facts)"
   ]
  },
  {
   "cell_type": "markdown",
   "metadata": {},
   "source": [
    "# Check if a given statement is true or false"
   ]
  },
  {
   "cell_type": "code",
   "execution_count": 17,
   "metadata": {},
   "outputs": [],
   "source": [
    "def check_statement(statement):\n",
    "    fact = facts_collection.find_one({\"statement\": statement})\n",
    "    if fact:\n",
    "        return fact['is_true']\n",
    "    else:\n",
    "        return \"Fact not found in the database.\""
   ]
  },
  {
   "cell_type": "code",
   "execution_count": 18,
   "metadata": {},
   "outputs": [
    {
     "name": "stdout",
     "output_type": "stream",
     "text": [
      "Statement: 'The capital of France is Paris.'\n",
      "Result: True\n",
      "\n",
      "Statement: 'The Earth is flat.'\n",
      "Result: False\n",
      "\n",
      "Statement: 'The sun rises in the west.'\n",
      "Result: Fact not found in the database.\n",
      "\n"
     ]
    }
   ],
   "source": [
    "if __name__ == \"__main__\":\n",
    "    statements_to_check = [\n",
    "        \"The capital of France is Paris.\",\n",
    "        \"The Earth is flat.\",\n",
    "        \"The sun rises in the west.\",\n",
    "    ]\n",
    "\n",
    "    for statement in statements_to_check:\n",
    "        result = check_statement(statement)\n",
    "        print(f\"Statement: '{statement}'\\nResult: {result}\\n\")"
   ]
  }
 ],
 "metadata": {
  "kernelspec": {
   "display_name": "Python 3",
   "language": "python",
   "name": "python3"
  },
  "language_info": {
   "codemirror_mode": {
    "name": "ipython",
    "version": 3
   },
   "file_extension": ".py",
   "mimetype": "text/x-python",
   "name": "python",
   "nbconvert_exporter": "python",
   "pygments_lexer": "ipython3",
   "version": "3.12.2"
  }
 },
 "nbformat": 4,
 "nbformat_minor": 2
}
